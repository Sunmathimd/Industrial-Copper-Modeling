{
 "cells": [
  {
   "cell_type": "code",
   "execution_count": 1,
   "metadata": {},
   "outputs": [],
   "source": [
    "from tkinter import _test\n",
    "import pandas as pd\n",
    "import numpy as np\n",
    "from sklearn.compose import ColumnTransformer\n",
    "from sklearn.model_selection import train_test_split\n",
    "from sklearn.tree import DecisionTreeRegressor , DecisionTreeClassifier\n",
    "from sklearn.preprocessing import StandardScaler, OneHotEncoder\n",
    "from sklearn.metrics import mean_squared_error, r2_score, accuracy_score, confusion_matrix, classification_report, roc_curve, auc\n",
    "from sklearn.model_selection import GridSearchCV\n",
    "from sklearn.preprocessing import LabelBinarizer\n",
    "import streamlit as st\n",
    "import re\n",
    "from PIL import Image\n",
    "from streamlit_option_menu import option_menu\n",
    "import seaborn as sns\n",
    "import matplotlib.pyplot as plt\n",
    "import warnings\n",
    "import pickle\n",
    "warnings.filterwarnings(\"ignore\")\n",
    "import streamlit as st\n",
    "import pickle"
   ]
  },
  {
   "cell_type": "code",
   "execution_count": 2,
   "metadata": {},
   "outputs": [],
   "source": [
    "import numpy as np\n",
    "import streamlit as st\n",
    "import re\n",
    "from PIL import Image\n",
    "from streamlit_option_menu import option_menu\n",
    "import warnings\n",
    "import pickle\n",
    "warnings.filterwarnings(\"ignore\")"
   ]
  },
  {
   "cell_type": "code",
   "execution_count": 4,
   "metadata": {},
   "outputs": [],
   "source": [
    "# Open the image file for the page icon\n",
    "icon = Image.open(r\"C:\\Users\\sunma\\Downloads\\copper_factory_man.jpg\")\n",
    "# Set page configurations with background color\n",
    "st.set_page_config(\n",
    "    page_title=\"Industrial Copper Modeling  | By Sunmathi\",\n",
    "    page_icon=icon,\n",
    "    layout=\"wide\",\n",
    "    initial_sidebar_state=\"expanded\",\n",
    "    menu_items={'About': \"\"\"# This app is created by *Sunmathi!*\"\"\"})\n"
   ]
  },
  {
   "cell_type": "code",
   "execution_count": 5,
   "metadata": {},
   "outputs": [
    {
     "name": "stderr",
     "output_type": "stream",
     "text": [
      "2023-11-27 18:56:18.122 \n",
      "  \u001b[33m\u001b[1mWarning:\u001b[0m to view this Streamlit app on a browser, run it with the following\n",
      "  command:\n",
      "\n",
      "    streamlit run c:\\Users\\sunma\\AppData\\Local\\Programs\\Python\\Python310\\lib\\site-packages\\ipykernel_launcher.py [ARGUMENTS]\n"
     ]
    },
    {
     "data": {
      "text/plain": [
       "DeltaGenerator()"
      ]
     },
     "execution_count": 5,
     "metadata": {},
     "output_type": "execute_result"
    }
   ],
   "source": [
    "# Add background color using CSS\n",
    "background_color = \"\"\"\n",
    "<style>\n",
    "    body {\n",
    "        background-color: #F7EBED;  /* Set background color to #F7EBED*/            #AntiqueWhite color\n",
    "    }\n",
    "    .stApp {\n",
    "        background-color: #F7EBED; /* Set background-color for the entire app */\n",
    "    }\n",
    "</style>\n",
    "\"\"\"\n",
    "#AntiqueWhite color #F7EBED\n",
    "st.markdown(background_color, unsafe_allow_html=True)"
   ]
  },
  {
   "cell_type": "code",
   "execution_count": 6,
   "metadata": {},
   "outputs": [
    {
     "name": "stderr",
     "output_type": "stream",
     "text": [
      "2023-11-27 18:56:43.637 Session state does not function when running a script without `streamlit run`\n"
     ]
    }
   ],
   "source": [
    "# CREATING OPTION MENU\n",
    "with st.sidebar:\n",
    "    selected = option_menu(None,[\"Home\",\"Predictive analysis\"],\n",
    "        icons=[\"house-fill\",\"tools\"],\n",
    "        default_index=0,\n",
    "        orientation=\"Vertical\",\n",
    "        styles={\n",
    "            \"nav-link\": {\n",
    "                \"font-size\": \"30px\",\n",
    "                \"font-family\": \"Fira Sans\",\n",
    "                \"font-weight\": \"Bold\",\n",
    "                \"text-align\": \"left\",\n",
    "                \"margin\": \"10px\",\n",
    "                \"--hover-color\": \"#964B00\"#Brown\n",
    "            },\n",
    "            \"icon\": {\"font-size\": \"30px\"},\n",
    "            \"container\": {\"max-width\": \"6000px\"},\n",
    "            \"nav-link-selected\": {\n",
    "                \"background-color\": \"#CD7F32\", #Bronze\n",
    "                \"color\": \"Bronze\",\n",
    "            }\n",
    "        })"
   ]
  },
  {
   "cell_type": "code",
   "execution_count": 7,
   "metadata": {},
   "outputs": [],
   "source": [
    "# Define a custom CSS style to change text color\n",
    "custom_style = \"\"\"\n",
    "<style>\n",
    "    .black-text {\n",
    "        color: black; /* Change text color to black */\n",
    "    }\n",
    "</style>\n",
    "\"\"\"\n"
   ]
  },
  {
   "cell_type": "code",
   "execution_count": 8,
   "metadata": {},
   "outputs": [],
   "source": [
    "# Apply the custom style\n",
    "st.markdown(custom_style, unsafe_allow_html=True)\n",
    "\n",
    "if selected == \"Home\":\n",
    "    col1, col2 = st.columns(2)\n",
    "\n",
    "    with col1:\n",
    "        image = Image.open(r\"C:\\Users\\sunma\\Downloads\\copper_factory_man.jpg\")\n",
    "        st.image(image, width=700,  output_format='PNG', use_column_width=False)\n",
    "        \n",
    "\n",
    "    with col2:\n",
    "        st.markdown(\"## :green[**Technologies Used :**]\")\n",
    "        st.markdown(\"### Python: The core programming language for data analysis, machine learning, and web application development.\")\n",
    "        st.markdown(\"### Pandas, NumPy, Matplotlib, Seaborn: Libraries for data manipulation, numerical operations, and data visualization.\")\n",
    "        st.markdown(\"### Scikit-learn: A machine learning library for building and evaluating regression and classification models.\")\n",
    "        st.markdown(\"### Streamlit: A Python library for creating interactive web applications with minimal code.\")\n",
    "\n",
    "\n",
    "        st.markdown(\"## :green[**Overview :**]\")\n",
    "        st.markdown(\"### Industrial Copper Modeling is a comprehensive project focusing on data analysis, machine learning, and web development. The project involves Python scripting for data preprocessing, exploratory data analysis (EDA), and building machine learning models for regression and classification. The Streamlit framework is used to create an interactive web page allowing users to input data and obtain predictions for selling price or lead status. \")"
   ]
  },
  {
   "cell_type": "code",
   "execution_count": 9,
   "metadata": {},
   "outputs": [],
   "source": [
    "if selected == \"Predictive analysis\":\n",
    "    \n",
    "\n",
    "    st.write(\"\"\"\n",
    "    <div style='text-align:center'>\n",
    "        <h1 style='color:#CD7F32;'>Industrial Copper Modeling Application</h1>\n",
    "    </div>\n",
    "    \"\"\", unsafe_allow_html=True)\n",
    "\n",
    "    tab1, tab2 = st.tabs([\"PREDICT SELLING PRICE\", \"PREDICT STATUS\"])\n",
    "    with tab1:\n",
    "        # Define the possible values for the dropdown menus\n",
    "        status_options = ['Won', 'Draft', 'To be approved', 'Lost', 'Not lost for AM', 'Wonderful', 'Revised', 'Offered',\n",
    "                        'Offerable']\n",
    "        item_type_options = ['W', 'WI', 'S', 'Others', 'PL', 'IPL', 'SLAWR']\n",
    "        country_options = [28., 25., 30., 32., 38., 78., 27., 77., 113., 79., 26., 39., 40., 84., 80., 107., 89.]\n",
    "        application_options = [10., 41., 28., 59., 15., 4., 38., 56., 42., 26., 27., 19., 20., 66., 29., 22., 40., 25., 67.,\n",
    "                            79., 3., 99., 2., 5., 39., 69., 70., 65., 58., 68.]\n",
    "        product = ['611112', '611728', '628112', '628117', '628377', '640400', '640405', '640665',\n",
    "                '611993', '929423819', '1282007633', '1332077137', '164141591', '164336407',\n",
    "                '164337175', '1665572032', '1665572374', '1665584320', '1665584642', '1665584662',\n",
    "                '1668701376', '1668701698', '1668701718', '1668701725', '1670798778', '1671863738',\n",
    "                '1671876026', '1690738206', '1690738219', '1693867550', '1693867563', '1721130331', '1722207579']\n"
   ]
  }
 ],
 "metadata": {
  "kernelspec": {
   "display_name": "Python 3",
   "language": "python",
   "name": "python3"
  },
  "language_info": {
   "codemirror_mode": {
    "name": "ipython",
    "version": 3
   },
   "file_extension": ".py",
   "mimetype": "text/x-python",
   "name": "python",
   "nbconvert_exporter": "python",
   "pygments_lexer": "ipython3",
   "version": "3.10.0"
  }
 },
 "nbformat": 4,
 "nbformat_minor": 2
}
